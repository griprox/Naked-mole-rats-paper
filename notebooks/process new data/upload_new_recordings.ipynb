{
 "cells": [
  {
   "cell_type": "code",
   "execution_count": 1,
   "metadata": {},
   "outputs": [],
   "source": [
    "import os\n",
    "import sys\n",
    "path_to_this_notebook = os.path.abspath('.')\n",
    "PATH_TO_PROJECT = path_to_this_notebook[: path_to_this_notebook.find('notebooks')]\n",
    "sys.path.append(PATH_TO_PROJECT)\n",
    "\n",
    "import numpy as np\n",
    "import librosa\n",
    "import re\n",
    "import pandas as pd\n",
    "import shutil\n",
    "\n",
    "from src.preprocessing.process_recs_metadata import *\n",
    "from src.util import overwrite_recs_as_npy"
   ]
  },
  {
   "cell_type": "code",
   "execution_count": 2,
   "metadata": {},
   "outputs": [],
   "source": [
    "# These unctions which should be adapted to naming scheme, desired metadata columns and data storage structure\n",
    "#specify colonies manually\n",
    "\n",
    "def extract_metadata_african(rec_name):\n",
    "    \"\"\" This function should be customized for particular naming scheme of the recordings\n",
    "        Output should be dictionary {'col1' : v1, 'col2' : v2} that has metainfo values\n",
    "        of the recording \"\"\"\n",
    "    date = rec_name[rec_name.find('_') + 1 : rec_name.find(' ')]\n",
    "    date = date[:2] + '-' + date[2:4] +  '-' + date[4:]\n",
    "    ratids = 'whole'\n",
    "    return {'name' : rec_name,\n",
    "            'colony' : 'nmr',\n",
    "            'date' : date,\n",
    "            'ratids' : ratids,\n",
    "            'number' : None}\n",
    "\n",
    "\n",
    "def extract_metadata(rec_name):\n",
    "    \"\"\" This function should be customized for particular naming scheme of the recordings\n",
    "        Output is the dictionary {'col1' : v1, 'col2' : v2} that has metainfo values\n",
    "        of the recording \"\"\"\n",
    "    colony = rec_name[:rec_name.find('_')]\n",
    "    date = re.findall('[0-9]+-[0-9]+-[0-9]+', rec_name)[0]\n",
    "    ratids = re.findall('_[0-9, _]+_', rec_name)[0][1 : -1]\n",
    "    num = rec_name[rec_name.rfind('_') + 1 : rec_name.find('.')]\n",
    "    \n",
    "    return {'name' : rec_name,\n",
    "            'colony' : colony,\n",
    "            'date' : date,\n",
    "            'ratids' : ratids,\n",
    "            'number' : num}\n",
    "\n",
    "def extract_metadata_mice(rec_name):\n",
    "\n",
    "    ratids = rec_name[:rec_name.find('pup')]\n",
    "    date = re.findall('[0-9]+-[0-9]+-[0-9]+', rec_name)[0]\n",
    "    ratids = re.findall('_[0-9, _]+_', rec_name)[0][1 : -1]\n",
    "    \n",
    "    return {'name' : rec_name,\n",
    "            'date' : date,\n",
    "            'ratids' : ratids, \n",
    "            'colony': 'mice',}\n",
    "\n",
    "def build_path(recs_metadata, base_path):\n",
    "    \"\"\" This function should be customized in order to create desired structure\n",
    "        of the folders storing recordings. Using recording metadata as an input\n",
    "        it builds path where recording will be saved and extends metadata with it \"\"\"\n",
    "    paths = base_path + recs_metadata['colony'] + '/recordings/'\n",
    "    new_recs_metadata = pd.DataFrame(recs_metadata)\n",
    "    new_recs_metadata['path'] = paths\n",
    "    return new_recs_metadata"
   ]
  },
  {
   "cell_type": "markdown",
   "metadata": {},
   "source": [
    "### Setting path to recordings you to upload, specifying metainfo parameters"
   ]
  },
  {
   "cell_type": "code",
   "execution_count": 3,
   "metadata": {
    "scrolled": true
   },
   "outputs": [
    {
     "name": "stdout",
     "output_type": "stream",
     "text": [
      "Found 0 .wav and 42 .npy recordings. Wav ones will be overwritten with npy format.\n"
     ]
    }
   ],
   "source": [
    "# location of the metadata file, supposed to be always same\n",
    "DATA_FOLDER_NAME = 'data/'\n",
    "path_to_recordings_metadata = PATH_TO_PROJECT + DATA_FOLDER_NAME\n",
    "if not os.path.isdir(path_to_recordings_metadata):\n",
    "    os.makedirs(path_to_recordings_metadata)\n",
    "recordings_metadata_name = 'recordings_metadata.csv'\n",
    "\n",
    "sr = 22050\n",
    "\n",
    "# path where recordings you want to upload are stored\n",
    "path_to_new_recordings = PATH_TO_PROJECT + 'mouse vocalizations from mousetube/'\n",
    "for rec_name in os.listdir(path_to_new_recordings):\n",
    "    os.rename(path_to_new_recordings + rec_name, path_to_new_recordings + rec_name.replace('WAV', 'wav'))\n",
    "overwrite_recs_as_npy(path_to_new_recordings, sr=sr)\n",
    "new_rec_names =  [r for r in os.listdir(path_to_new_recordings) if '.npy' in r and 'split' not in r]"
   ]
  },
  {
   "cell_type": "code",
   "execution_count": 4,
   "metadata": {},
   "outputs": [],
   "source": [
    "# If some of the new recordings are already in the metadata, value for 'experiment' will be concatenated.\n",
    "# Other values will be overwritten\n",
    "# Separator for experiments is ; i.g. 'experiment': 'exp1;exp2;exp3'\n",
    "\n",
    "additional_parameters = {'experiment' : 'single rat softchirps', \n",
    "                         'processing stage' : 'fresh'}"
   ]
  },
  {
   "cell_type": "markdown",
   "metadata": {},
   "source": [
    "### Extracting metadata"
   ]
  },
  {
   "cell_type": "code",
   "execution_count": 8,
   "metadata": {
    "scrolled": true
   },
   "outputs": [],
   "source": [
    "# extract metadata and extend it with additional_parameters\n",
    "#change colony info manually above\n",
    "# change 'extract_metadata_mice' to 'extract_metadata_african' or 'extract_metadata' depending on the data\n",
    "new_recs_metadata = pd.DataFrame([extract_metadata_mice(rec_name) for rec_name in new_rec_names])\n",
    "new_recs_metadata = add_columns_to_recs_metadata(new_recs_metadata, additional_parameters)\n",
    "new_recs_metadata = build_path(new_recs_metadata, path_to_recordings_metadata)"
   ]
  },
  {
   "cell_type": "code",
   "execution_count": 10,
   "metadata": {
    "scrolled": true
   },
   "outputs": [
    {
     "name": "stdout",
     "output_type": "stream",
     "text": [
      "New recordings do not have values for following metadata columns:\n",
      "['number']\n",
      "Current metadata file does not have these columns:\n",
      "[]\n",
      "42/42 recordings are already in the metadata\n"
     ]
    },
    {
     "data": {
      "text/html": [
       "<div>\n",
       "<style scoped>\n",
       "    .dataframe tbody tr th:only-of-type {\n",
       "        vertical-align: middle;\n",
       "    }\n",
       "\n",
       "    .dataframe tbody tr th {\n",
       "        vertical-align: top;\n",
       "    }\n",
       "\n",
       "    .dataframe thead th {\n",
       "        text-align: right;\n",
       "    }\n",
       "</style>\n",
       "<table border=\"1\" class=\"dataframe\">\n",
       "  <thead>\n",
       "    <tr style=\"text-align: right;\">\n",
       "      <th></th>\n",
       "      <th>name</th>\n",
       "      <th>date</th>\n",
       "      <th>ratids</th>\n",
       "      <th>colony</th>\n",
       "      <th>experiment</th>\n",
       "      <th>processing stage</th>\n",
       "      <th>path</th>\n",
       "      <th>number</th>\n",
       "    </tr>\n",
       "  </thead>\n",
       "  <tbody>\n",
       "    <tr>\n",
       "      <th>0</th>\n",
       "      <td>C57pup_08-01-00_0215_0000008.npy</td>\n",
       "      <td>08-01-00</td>\n",
       "      <td>215</td>\n",
       "      <td>mice</td>\n",
       "      <td>mice</td>\n",
       "      <td>split</td>\n",
       "      <td>/home/gr1/Projects/Naked-mole-rat-voices/mice_...</td>\n",
       "      <td>NaN</td>\n",
       "    </tr>\n",
       "    <tr>\n",
       "      <th>1</th>\n",
       "      <td>FVBpup_01-01-00_0142_0000001.npy</td>\n",
       "      <td>01-01-00</td>\n",
       "      <td>0142</td>\n",
       "      <td>mice</td>\n",
       "      <td>mice</td>\n",
       "      <td>fresh</td>\n",
       "      <td>/home/gr1/Projects/Naked-mole-rat-voices/mice_...</td>\n",
       "      <td>NaN</td>\n",
       "    </tr>\n",
       "    <tr>\n",
       "      <th>2</th>\n",
       "      <td>C57pup_03-01-00_0211_0000003.npy</td>\n",
       "      <td>03-01-00</td>\n",
       "      <td>0211</td>\n",
       "      <td>mice</td>\n",
       "      <td>mice</td>\n",
       "      <td>fresh</td>\n",
       "      <td>/home/gr1/Projects/Naked-mole-rat-voices/mice_...</td>\n",
       "      <td>NaN</td>\n",
       "    </tr>\n",
       "    <tr>\n",
       "      <th>3</th>\n",
       "      <td>C57pup_10-01-00_0215_0000010.npy</td>\n",
       "      <td>10-01-00</td>\n",
       "      <td>0215</td>\n",
       "      <td>mice</td>\n",
       "      <td>mice</td>\n",
       "      <td>fresh</td>\n",
       "      <td>/home/gr1/Projects/Naked-mole-rat-voices/mice_...</td>\n",
       "      <td>NaN</td>\n",
       "    </tr>\n",
       "    <tr>\n",
       "      <th>4</th>\n",
       "      <td>C57pup_02-01-00_0214_0000002.npy</td>\n",
       "      <td>02-01-00</td>\n",
       "      <td>0214</td>\n",
       "      <td>mice</td>\n",
       "      <td>mice</td>\n",
       "      <td>fresh</td>\n",
       "      <td>/home/gr1/Projects/Naked-mole-rat-voices/mice_...</td>\n",
       "      <td>NaN</td>\n",
       "    </tr>\n",
       "  </tbody>\n",
       "</table>\n",
       "</div>"
      ],
      "text/plain": [
       "                               name      date ratids colony experiment  \\\n",
       "0  C57pup_08-01-00_0215_0000008.npy  08-01-00    215   mice       mice   \n",
       "1  FVBpup_01-01-00_0142_0000001.npy  01-01-00   0142   mice       mice   \n",
       "2  C57pup_03-01-00_0211_0000003.npy  03-01-00   0211   mice       mice   \n",
       "3  C57pup_10-01-00_0215_0000010.npy  10-01-00   0215   mice       mice   \n",
       "4  C57pup_02-01-00_0214_0000002.npy  02-01-00   0214   mice       mice   \n",
       "\n",
       "  processing stage                                               path number  \n",
       "0            split  /home/gr1/Projects/Naked-mole-rat-voices/mice_...    NaN  \n",
       "1            fresh  /home/gr1/Projects/Naked-mole-rat-voices/mice_...    NaN  \n",
       "2            fresh  /home/gr1/Projects/Naked-mole-rat-voices/mice_...    NaN  \n",
       "3            fresh  /home/gr1/Projects/Naked-mole-rat-voices/mice_...    NaN  \n",
       "4            fresh  /home/gr1/Projects/Naked-mole-rat-voices/mice_...    NaN  "
      ]
     },
     "execution_count": 10,
     "metadata": {},
     "output_type": "execute_result"
    }
   ],
   "source": [
    "# check if there is a recordings' metadata file already then load it or create new one\n",
    "if recordings_metadata_name in os.listdir(path_to_recordings_metadata):\n",
    "    old_recs_metadata = pd.read_csv(path_to_recordings_metadata + recordings_metadata_name)\n",
    "else:\n",
    "    old_recs_metadata = pd.DataFrame()\n",
    "    \n",
    "updated_metadata = merge_recs_metadata(old_recs_metadata, new_recs_metadata, additional_parameters)\n",
    "updated_metadata.head()\n"
   ]
  },
  {
   "cell_type": "markdown",
   "metadata": {},
   "source": [
    "### Saving updated metadata"
   ]
  },
  {
   "cell_type": "code",
   "execution_count": 11,
   "metadata": {
    "scrolled": true
   },
   "outputs": [],
   "source": [
    "# saves updated metadatafile and copies all new recordings to their new path\n",
    "for rec_name, rec_path in new_recs_metadata[['name', 'path']].values:\n",
    "    if not os.path.isdir(rec_path):\n",
    "        os.makedirs(rec_path)\n",
    "    shutil.copy2(src = path_to_new_recordings + rec_name, dst = rec_path + rec_name)\n",
    "updated_metadata.to_csv(path_to_recordings_metadata + recordings_metadata_name, index=None)"
   ]
  },
  {
   "cell_type": "code",
   "execution_count": null,
   "metadata": {},
   "outputs": [],
   "source": []
  }
 ],
 "metadata": {
  "kernelspec": {
   "display_name": "Python 3",
   "language": "python",
   "name": "python3"
  },
  "language_info": {
   "codemirror_mode": {
    "name": "ipython",
    "version": 3
   },
   "file_extension": ".py",
   "mimetype": "text/x-python",
   "name": "python",
   "nbconvert_exporter": "python",
   "pygments_lexer": "ipython3",
   "version": "3.6.9"
  }
 },
 "nbformat": 4,
 "nbformat_minor": 2
}
