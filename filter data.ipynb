{
 "cells": [
  {
   "cell_type": "code",
   "execution_count": 17,
   "metadata": {},
   "outputs": [],
   "source": [
    "import os\n",
    "import sys\n",
    "from src.preprocessing.load_data import *\n",
    "from src.preprocessing.process_softchirp_features import find_outliers, choose_features\n",
    "from src.data_representations.softchirp_features import compute_all_features\n",
    "from src.data_representations.process_traces import clear_trace\n",
    "from src.preprocessing.filters import filter_recs_metadata, filter_sounds_metadata_extended\n",
    "from src.preprocessing.process_sounds_metadata import extend_sounds_metadata, compute_epochs\n",
    "from src.visualization.plot_softchirps import plot\n",
    "from src.util import delete_indexes\n",
    "import src.visualization.plot_softchirps\n",
    "from notebooks.analysis.plotting_config import ORDER, COLOR, EPOCHS # change plotting_config file to change colors\n",
    "from src.util import date_to_datetime\n",
    "import numpy as np\n",
    "from datetime import datetime\n",
    "import pandas as pd\n",
    "import numpy as np\n",
    "import matplotlib.pyplot as plt\n",
    "import re\n",
    "from collections import defaultdict\n",
    "import matplotlib\n",
    "import matplotlib.cm as cm\n",
    "%matplotlib inline"
   ]
  },
  {
   "cell_type": "code",
   "execution_count": 18,
   "metadata": {},
   "outputs": [],
   "source": [
    "PATH_TO_PROJECT = './'"
   ]
  },
  {
   "cell_type": "code",
   "execution_count": 19,
   "metadata": {},
   "outputs": [],
   "source": [
    "cols = ['baratheon', 'dothrakib', 'targaryen', 'martell', 'stark']\n",
    "\n",
    "dates_limits = {'baratheon' : ('24-03-19', '20-06-20'),\n",
    "                'dothrakib': ('24-03-19', '03-11-19'),\n",
    "                'targaryen': ('24-03-19', '03-11-19'),\n",
    "                'martell': ('24-03-19', '03-12-19'),\n",
    "                'stark': ('01-04-17', '30-06-18')}"
   ]
  },
  {
   "cell_type": "code",
   "execution_count": 35,
   "metadata": {},
   "outputs": [
    {
     "data": {
      "text/plain": [
       "array(['26-09-17', '01-11-17', '19-06-18', '01-12-17', '05-10-17',\n",
       "       '21-08-17', '31-03-18', '07-07-17', '15-05-18', '27-11-17',\n",
       "       '06-02-18', '05-09-17', '23-12-17'], dtype=object)"
      ]
     },
     "execution_count": 35,
     "metadata": {},
     "output_type": "execute_result"
    }
   ],
   "source": [
    "recs_metadata_new[recs_metadata_new['colony'] == 'stark'].date.unique()"
   ]
  },
  {
   "cell_type": "code",
   "execution_count": 20,
   "metadata": {
    "scrolled": true
   },
   "outputs": [],
   "source": [
    "DATA_FOLDER_NAME = '/data/'\n",
    "path_to_info = PATH_TO_PROJECT + DATA_FOLDER_NAME + '/rat_info.csv'\n",
    "path_to_recordings_metadata = PATH_TO_PROJECT + DATA_FOLDER_NAME\n",
    "recordings_metadata_name = 'recordings_metadata.csv'\n",
    "\n",
    "info = load_info_file(path_to_info)\n",
    "recs_metadata = pd.read_csv(path_to_recordings_metadata + recordings_metadata_name, dtype={'ratids': str})\n",
    "recs_metadata = recs_metadata[recs_metadata['colony'].isin(cols)].reset_index(drop=True)"
   ]
  },
  {
   "cell_type": "code",
   "execution_count": 21,
   "metadata": {},
   "outputs": [
    {
     "name": "stdout",
     "output_type": "stream",
     "text": [
      "9466\n",
      "4053\n",
      "1407\n",
      "3979\n",
      "4043\n",
      "3981\n",
      "3985\n",
      "2159\n",
      "3984\n",
      "2041\n",
      "4032\n",
      "4020\n",
      "4012\n",
      "3900\n",
      "4018\n",
      "4202\n",
      "3914\n",
      "4006\n",
      "4065\n",
      "4063\n",
      "4023\n",
      "3902\n"
     ]
    }
   ],
   "source": [
    "ratids_are_in_info = np.ones(recs_metadata.shape[0], dtype='bool')\n",
    "single_ratids = recs_metadata['ratids'].apply(lambda x: len(x) <= 5)\n",
    "unique_ratids = recs_metadata[single_ratids]['ratids'].unique()\n",
    "rids_delete = set()\n",
    "for rid in unique_ratids:\n",
    "    if int(rid) not in info['ID'].values:\n",
    "        print(rid)\n",
    "        rids_delete.add(rid)\n",
    "        \n",
    "mask_rids_delete = recs_metadata['ratids'].isin(rids_delete)"
   ]
  },
  {
   "cell_type": "code",
   "execution_count": 22,
   "metadata": {
    "scrolled": true
   },
   "outputs": [
    {
     "name": "stdout",
     "output_type": "stream",
     "text": [
      "baratheon 183\n",
      "dothrakib 25\n",
      "targaryen 77\n",
      "martell 94\n",
      "stark 304\n"
     ]
    }
   ],
   "source": [
    "recs_metadata_new = pd.DataFrame(np.copy(recs_metadata), columns=recs_metadata.columns)\n",
    "mask = np.zeros(recs_metadata_new.shape[0], dtype='bool')\n",
    "ratids_are_in_info = np.ones_like(mask, dtype='bool')\n",
    "\n",
    "for c in cols:\n",
    "    mask_c = recs_metadata.colony == c\n",
    "    \n",
    "    dates = dates_limits[c]\n",
    "    dates_transformed = recs_metadata_new['date'].apply(date_to_datetime)\n",
    "    d_min, d_max = date_to_datetime(dates[0]), date_to_datetime(dates[1])\n",
    "    mask_d = dates_transformed.apply(lambda x: d_min <= x <= d_max)\n",
    "    if c == 'stark':\n",
    "        mask_ratids = np.ones_like(mask, dtype='bool')\n",
    "    else:\n",
    "        mask_ratids = recs_metadata['ratids'].apply(lambda x: len(x) <= 5)\n",
    "    mask_c = mask_c * mask_d * mask_ratids\n",
    "    print(c, np.sum(mask_c))\n",
    "    mask[mask_c] = True\n",
    "    \n",
    "mask[mask_rids_delete] = False\n",
    "mask_delete = np.invert(mask)\n",
    "\n",
    "recs_to_delete = recs_metadata[mask_delete].reset_index(drop=True)\n",
    "recs_metadata_new = recs_metadata[mask].reset_index(drop=True)"
   ]
  },
  {
   "cell_type": "code",
   "execution_count": 23,
   "metadata": {
    "scrolled": true
   },
   "outputs": [
    {
     "name": "stdout",
     "output_type": "stream",
     "text": [
      "8406_9453 no \n",
      "9478_8406 no \n",
      "8304_9462 no \n",
      "8304_9660 no \n",
      "9660_8314 no \n",
      "9474_8322 no \n",
      "9551_9597 no \n",
      "8406_9551 no \n",
      "8322_9453 no \n",
      "8318_8388 no \n",
      "9597_9551 no \n",
      "9462_8406 no \n",
      "1556_9597 no \n",
      "9478_1556 no \n",
      "8406_9478 no \n",
      "8318_9453 no \n",
      "8529_9478 no \n",
      "9597_8304 no \n",
      "9453_8529 no \n",
      "9660_1549 no \n",
      "8476_8529 no \n",
      "9551_8314 no \n",
      "8322_9660 no \n",
      "1545_1549 no \n",
      "9453_9551 no \n",
      "9453_8322 no \n",
      "8529_9474 no \n",
      "9597_1556 no \n",
      "9551_8529 no \n",
      "8314_9551 no \n",
      "8318_9660 no \n",
      "8529_8476 no \n",
      "1549_9597 no \n",
      "8318_8406 no \n",
      "9478_9597 no \n",
      "9660_9597 no \n",
      "9597_8318 no \n",
      "9597_8406 no \n",
      "8476_9660 no \n",
      "8406_1545 no \n",
      "9478_9453 no \n",
      "9551_8406 no \n",
      "1549_9478 no \n",
      "8406_9474 no \n",
      "9478_9660 no \n",
      "8476_9597 no \n",
      "9462_9478 no \n",
      "9551_9462 no \n",
      "9453_9474 no \n",
      "9474_9551 no \n",
      "9462_9453 no \n",
      "8322_8529 no \n",
      "9597_8314 no \n",
      "8304_8476 no \n",
      "8318_9478 no \n",
      "8304_8388 no \n",
      "8388_9660 no \n",
      "8476_9474 no \n",
      "9478_9462 no \n",
      "8318_9474 no \n",
      "1556_8406 no \n",
      "8406_9660 no \n",
      "8318_9551 no \n",
      "9551_8322 no \n",
      "9551_9660 no \n",
      "9453_8406 no \n",
      "9660_8304 no \n",
      "9660_9551 no \n",
      "8529_1549 no \n",
      "9453_9660 no \n",
      "8314_8322 no \n",
      "8529_9551 no \n",
      "8304_8406 no \n",
      "9453_8476 no \n",
      "9453_8314 no \n",
      "9478_8529 no \n",
      "9478_1549 no \n",
      "9551_8476 no \n",
      "8406_8529 no \n",
      "9660_8529 no \n",
      "8529_8406 no \n",
      "9551_8304 no \n",
      "8322_1545 no \n",
      "9597_1549 no \n",
      "9551_9453 no \n",
      "9453_8304 no \n",
      "9462_9660 no \n",
      "9462_9551 no \n",
      "8476_9462 no \n",
      "8314_8529 no \n",
      "1545_9478 no \n",
      "8322_8476 no \n",
      "8476_9551 no \n",
      "8406_9462 no \n",
      "1549_1545 no \n",
      "8406_9597 no \n"
     ]
    }
   ],
   "source": [
    "mask_ratinfo = np.zeros(len(info), dtype='bool')\n",
    "for rid in recs_metadata_new['ratids'].unique():\n",
    "    rat_inds = np.where(info['ID'] == int(rid))[0]\n",
    "    if len(rat_inds) == 0:\n",
    "        print(rid, 'no ')\n",
    "    else:\n",
    "        mask_ratinfo[rat_inds] = True\n",
    "info_new = info[mask_ratinfo].reset_index(drop=True)"
   ]
  },
  {
   "cell_type": "code",
   "execution_count": 25,
   "metadata": {},
   "outputs": [],
   "source": [
    "for rec_name, rec_path, st in recs_to_delete[['name', 'path', 'processing stage']].values:\n",
    "    traces_path = rec_path.replace('recordings', 'traces')\n",
    "    rec_file = rec_path + rec_name\n",
    "    txt_file = rec_path + rec_name.replace('npy', 'txt')\n",
    "    rec_traces = [t for t in os.listdir(traces_path)  if (rec_name[:-3] in t) and 'trace' in t]\n",
    "    try:\n",
    "        os.remove(rec_file)\n",
    "        os.remove(txt_file)\n",
    "        for tr in rec_traces:\n",
    "            os.remove(traces_path + tr)\n",
    "    except:\n",
    "        pass\n"
   ]
  },
  {
   "cell_type": "code",
   "execution_count": 32,
   "metadata": {},
   "outputs": [],
   "source": [
    "info_new.to_csv(path_to_info, index=None)\n",
    "recs_metadata_new.to_csv(path_to_recordings_metadata + recordings_metadata_name, index=None)"
   ]
  }
 ],
 "metadata": {
  "kernelspec": {
   "display_name": "Python 3",
   "language": "python",
   "name": "python3"
  },
  "language_info": {
   "codemirror_mode": {
    "name": "ipython",
    "version": 3
   },
   "file_extension": ".py",
   "mimetype": "text/x-python",
   "name": "python",
   "nbconvert_exporter": "python",
   "pygments_lexer": "ipython3",
   "version": "3.6.9"
  }
 },
 "nbformat": 4,
 "nbformat_minor": 4
}
